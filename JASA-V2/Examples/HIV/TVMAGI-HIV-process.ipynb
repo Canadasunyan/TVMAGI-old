{
 "cells": [
  {
   "cell_type": "code",
   "execution_count": 13,
   "id": "3e56e471",
   "metadata": {},
   "outputs": [
    {
     "name": "stdout",
     "output_type": "stream",
     "text": [
      "359.0416733413551 127.89634115013716\n"
     ]
    },
    {
     "data": {
      "text/plain": [
       "tensor([[1.0000e+00, 9.6914e-01, 8.9024e-01,  ..., 6.2573e-14, 4.4113e-14,\n",
       "         3.1094e-14],\n",
       "        [9.6914e-01, 1.0000e+00, 9.6914e-01,  ..., 8.8746e-14, 6.2573e-14,\n",
       "         4.4113e-14],\n",
       "        [8.9024e-01, 9.6914e-01, 1.0000e+00,  ..., 1.2585e-13, 8.8746e-14,\n",
       "         6.2573e-14],\n",
       "        ...,\n",
       "        [6.2573e-14, 8.8746e-14, 1.2585e-13,  ..., 1.0000e+00, 9.6914e-01,\n",
       "         8.9024e-01],\n",
       "        [4.4113e-14, 6.2573e-14, 8.8746e-14,  ..., 9.6914e-01, 1.0000e+00,\n",
       "         9.6914e-01],\n",
       "        [3.1094e-14, 4.4113e-14, 6.2573e-14,  ..., 8.9024e-01, 9.6914e-01,\n",
       "         1.0000e+00]])"
      ]
     },
     "execution_count": 13,
     "metadata": {},
     "output_type": "execute_result"
    }
   ],
   "source": [
    "import numpy as np\n",
    "import matplotlib.pyplot as plt\n",
    "import pickle\n",
    "import torch\n",
    "import scipy.special as fun\n",
    "import os\n",
    "os.environ[\"KMP_DUPLICATE_LIB_OK\"]  =  \"TRUE\"\n",
    "\n",
    "\n",
    "days = 100  \n",
    "obs_per_day = 1\n",
    "nobs = days * obs_per_day\n",
    "linspace = 1000\n",
    "X = np.arange(0, days, 1./(obs_per_day * linspace))\n",
    "true_lambda = 36.\n",
    "true_rho = 0.108 \n",
    "k = 5e-4\n",
    "true_gamma = np.cos(3.14 * X / 500)\n",
    "true_delta = 0.1\n",
    "N = 1000.\n",
    "c = 3.5\n",
    "\n",
    "\n",
    "def true_data(true_lambda, true_rho, true_gamma, true_delta, days, obs_per_day, state0=[350., 20., 1200.],N=N, k=k, c=c, linspace=1000, noise=True):\n",
    "    \"\"\"\n",
    "    generate data using pre-set parameters \n",
    "    \"\"\"\n",
    "    # check input\n",
    "    # [ S, E, I, D, cfr0]\n",
    "    nobs = days\n",
    "    step_size = 1. / (linspace * obs_per_day)\n",
    "    state_ls = np.ones((days * linspace * obs_per_day, 3))\n",
    "    state_ls[0] = state0.copy()\n",
    "    for i in range(1, linspace * days * obs_per_day):\n",
    "        index = i - 1\n",
    "        state_ls[i][0] = state_ls[i - 1][0] + step_size * (true_lambda - true_rho * state_ls[i - 1][0] - k * (1-true_gamma[index]) * state_ls[i - 1][0] * state_ls[i - 1][2])\n",
    "        state_ls[i][1] = state_ls[i - 1][1] + step_size * (k * (1-true_gamma[index]) * state_ls[i - 1][0] * state_ls[i - 1][2] - true_delta * state_ls[i - 1][1])\n",
    "        state_ls[i][2] = state_ls[i - 1][2] + step_size * (N * true_delta * state_ls[i - 1][1] - c * state_ls[i - 1][2]) \n",
    "    states = state_ls[::obs_per_day * linspace]\n",
    "\n",
    "    return states[:, 0], state_ls[:, 1], np.log(states[:, 2])\n",
    "\n",
    "\n",
    "Tt, It, true_x = true_data(true_lambda, true_rho, true_gamma, true_delta, days, obs_per_day)\n",
    "It_diff = np.zeros(100)\n",
    "for i in range(100):\n",
    "    It_diff[i] = (It[1000 * i + 1] - It[1000 * i]) * 1000\n",
    "    \n",
    "true_a = -N * It_diff + Tt * (N * k * (1-true_gamma[::1000]) * np.exp(true_x))\n",
    "\n",
    "\n",
    "class Bessel(torch.autograd.Function):\n",
    "    @staticmethod\n",
    "    def forward(ctx, inp, nu):\n",
    "        ctx._nu = nu\n",
    "        ctx.save_for_backward(inp)\n",
    "        mat = fun.kv(nu, inp.detach().numpy())\n",
    "        return (torch.from_numpy(np.array(mat)))\n",
    "\n",
    "    @staticmethod\n",
    "    def backward(ctx, grad_out):\n",
    "        inp, = ctx.saved_tensors\n",
    "        nu = ctx._nu\n",
    "        grad_in = grad_out.numpy() * np.array(fun.kvp(nu, inp.detach().numpy()))\n",
    "        return (torch.from_numpy(grad_in), None)\n",
    "\n",
    "\n",
    "class generalMatern(object):\n",
    "\n",
    "    # has_lengthscale = True\n",
    "\n",
    "    def __init__(self, nu, lengthscale, **kwargs):\n",
    "        # super(Matern,self).__init__(**kwargs)\n",
    "        self.nu = nu\n",
    "        self.log_lengthscale = torch.tensor(np.log(lengthscale))\n",
    "        self.log_lengthscale.requires_grad_(True)\n",
    "\n",
    "    def _set_lengthscale(self, lengthscale):\n",
    "        self.log_lengthscale = torch.tensor(np.log(lengthscale))\n",
    "\n",
    "    def lengthscale(self):\n",
    "        return (torch.exp(self.log_lengthscale).item())\n",
    "\n",
    "    def forward(self, x1, x2=None, **params):\n",
    "        lengthscale = torch.exp(self.log_lengthscale)\n",
    "        x1 = x1.squeeze()\n",
    "        if x2 is None: x2 = x1\n",
    "        r_ = (x1.reshape(-1, 1) - x2.reshape(1, -1)).abs()\n",
    "        r_ = np.sqrt(2. * self.nu) * r_ / lengthscale\n",
    "        # handle limit at 0, allows more efficient backprop\n",
    "        r_ = torch.clamp(r_, min=1e-15)\n",
    "        C_ = np.power(2, 1 - self.nu) * np.exp(-fun.loggamma(self.nu)) * torch.pow(r_, self.nu)\n",
    "        mat = Bessel.apply(r_, self.nu)\n",
    "        C_ = C_ * mat\n",
    "        return (C_)\n",
    "\n",
    "    def C(self, x1, x2=None):\n",
    "        return (self.forward(x1, x2).detach())\n",
    "\n",
    "    \n",
    "\n",
    "\n",
    "ker = generalMatern(2.01, 5.5)\n",
    "cov_matrix = ker.C(torch.tensor(np.arange(0, 100, 1)))\n",
    "\n",
    "days = 100\n",
    "obs_per_day = 1\n",
    "all_a = np.zeros((100, days * obs_per_day))              \n",
    "all_xinit = np.zeros(100)\n",
    "for i in range(100):\n",
    "    file = np.load('G:/0114/HIV-res/HIV-a-mean-' + str(i) + '.npy')\n",
    "    all_a[i] = file\n",
    "    all_xinit[i] = np.load('G:/0114/HIV-res/HIV-xinit-mean-' + str(i) + '.npy')\n",
    "    \n",
    "    \n",
    "a_RMSE = np.zeros(100)\n",
    "for i in range(100):\n",
    "    a_RMSE[i] = np.sqrt(np.mean(np.square(true_a - all_a[i])))\n",
    "\n",
    "print(np.mean(a_RMSE), np.std(a_RMSE))\n",
    "cov_matrix"
   ]
  },
  {
   "cell_type": "code",
   "execution_count": 30,
   "id": "8519c541",
   "metadata": {},
   "outputs": [
    {
     "name": "stdout",
     "output_type": "stream",
     "text": [
      "0\n",
      "1\n",
      "2\n",
      "3\n",
      "4\n",
      "5\n",
      "6\n",
      "7\n",
      "8\n",
      "9\n",
      "10\n",
      "11\n",
      "12\n",
      "13\n",
      "14\n",
      "15\n",
      "16\n",
      "17\n",
      "18\n",
      "19\n",
      "20\n",
      "21\n",
      "22\n",
      "23\n",
      "24\n",
      "25\n",
      "26\n",
      "27\n",
      "28\n",
      "29\n",
      "30\n",
      "31\n",
      "32\n",
      "33\n",
      "34\n",
      "35\n",
      "36\n",
      "37\n",
      "38\n",
      "39\n",
      "40\n",
      "41\n",
      "42\n",
      "43\n",
      "44\n",
      "45\n",
      "46\n",
      "47\n",
      "48\n",
      "49\n",
      "50\n",
      "51\n",
      "52\n",
      "53\n",
      "54\n",
      "55\n",
      "56\n",
      "57\n",
      "58\n",
      "59\n",
      "60\n",
      "61\n",
      "62\n",
      "63\n",
      "64\n",
      "65\n",
      "66\n",
      "67\n",
      "68\n",
      "69\n",
      "70\n",
      "71\n",
      "72\n",
      "73\n",
      "74\n",
      "75\n",
      "76\n",
      "77\n",
      "78\n",
      "79\n",
      "80\n",
      "81\n",
      "82\n",
      "83\n",
      "84\n",
      "85\n",
      "86\n",
      "87\n",
      "88\n",
      "89\n",
      "90\n",
      "91\n",
      "92\n",
      "93\n",
      "94\n",
      "95\n",
      "96\n",
      "97\n",
      "98\n",
      "99\n"
     ]
    },
    {
     "data": {
      "image/png": "[encoded data removed]",
      "text/plain": [
       "<Figure size 432x288 with 1 Axes>"
      ]
     },
     "metadata": {
      "needs_background": "light"
     },
     "output_type": "display_data"
    }
   ],
   "source": [
    "def GPinterp(x, a, ker, inv_cov, days=100, obs_per_day=1):\n",
    "    x_obs = np.arange(0, days, 1 / obs_per_day)\n",
    "    return a.T.dot(inv_cov).dot(ker.C(torch.tensor(np.abs(x_obs - x)), x2=torch.tensor(np.zeros(100)))[:, 0])\n",
    "\n",
    "# a_inv_cov = np.linalg.inv(cov_matrix)\n",
    "# GPinterp(50, all_a[0], ker, a_inv_cov)\n",
    "\n",
    "def recover_data(a, state0, linspace=100, days=100, obs_per_day=1, discretization=1, mode = 'Gaussian'):\n",
    "    \"\"\"\n",
    "    params: parameter: [re, pe, pi, pd]\n",
    "    \"\"\"\n",
    "    # check input\n",
    "    # [ S, E, I, D, cfr0]\n",
    "    step_size = 1. / linspace\n",
    "    state_ls = np.ones(days * linspace)\n",
    "    state_ls[0] = state0\n",
    "    x_initial = np.linspace(0, 1000, days)\n",
    "    x_interp = np.linspace(0, 1000, days * linspace)\n",
    "    if mode == 'Linear': \n",
    "        a_interp = np.interp(x_interp, x_initial, a)\n",
    "    # Use Gaussian interpolation for theta    \n",
    "    elif mode == 'Gaussian':\n",
    "        global ker, cov_matrix\n",
    "        n_points = days * discretization * obs_per_day\n",
    "        d_matrix = np.zeros((n_points, n_points))\n",
    "        a_interp = np.zeros(10000)\n",
    "        a_inv_cov = np.linalg.inv(cov_matrix)\n",
    "        for i in range(10000):\n",
    "            a_interp[i] = GPinterp(i / (obs_per_day * linspace), a, ker, a_inv_cov)\n",
    "            \n",
    "        plt.plot(a_interp)\n",
    "    else:\n",
    "        raise ValueError\n",
    "        \n",
    "    for i in range(1, linspace * days):\n",
    "        index = i - 1\n",
    "        state_ls[i] = state_ls[i - 1] + step_size * (a_interp[i -1] * np.exp(-state_ls[i - 1]) - 3.5)\n",
    "    return state_ls[::linspace]\n",
    "\n",
    "\n",
    "all_reconstructed_x = np.zeros((100, 100))\n",
    "for i in range(100):\n",
    "    print(i)\n",
    "    all_reconstructed_x[i] = recover_data(all_a[i], all_xinit[i])"
   ]
  },
  {
   "cell_type": "code",
   "execution_count": 29,
   "id": "5a43054f",
   "metadata": {},
   "outputs": [
    {
     "data": {
      "text/plain": [
       "[<matplotlib.lines.Line2D at 0x2da629b3cd0>]"
      ]
     },
     "execution_count": 29,
     "metadata": {},
     "output_type": "execute_result"
    },
    {
     "data": {
      "image/png": "[encoded data removed]",
      "text/plain": [
       "<Figure size 432x288 with 1 Axes>"
      ]
     },
     "metadata": {
      "needs_background": "light"
     },
     "output_type": "display_data"
    }
   ],
   "source": [
    "plt.plot( all_reconstructed_x[0])"
   ]
  },
  {
   "cell_type": "code",
   "execution_count": 31,
   "id": "d49c1eb9",
   "metadata": {},
   "outputs": [
    {
     "name": "stdout",
     "output_type": "stream",
     "text": [
      "0.039525999778245925 0.0036533112161605368\n"
     ]
    }
   ],
   "source": [
    "x_RMSE = np.zeros(100)\n",
    "for i in range(100):\n",
    "    x_RMSE[i] = np.sqrt(np.mean(np.square(true_x - all_reconstructed_x[i])))\n",
    "    \n",
    "    \n",
    "print(np.mean(x_RMSE), np.std(x_RMSE))"
   ]
  },
  {
   "cell_type": "code",
   "execution_count": 35,
   "id": "71f0149f",
   "metadata": {},
   "outputs": [
    {
     "name": "stdout",
     "output_type": "stream",
     "text": [
      "359.8674712907494 127.58750132295668\n"
     ]
    }
   ],
   "source": [
    "TVMAGI_a_ls = np.zeros((100, 100))\n",
    "for i in range(100):\n",
    "    file = np.load('G:/0114/HIV-res/HIV-TVMAGI-' + str(i) + '.npy')\n",
    "    TVMAGI_a_ls[i] = 1e5 * file[:, 0] + 1e3 * file[:, 1] * Tt\n",
    "\n",
    "TVMAGI_a_RMSE = np.zeros(100)\n",
    "for i in range(100):\n",
    "    TVMAGI_a_RMSE[i] = np.sqrt(np.mean(np.square(true_a - TVMAGI_a_ls[i])))\n",
    "\n",
    "print(np.mean(TVMAGI_a_RMSE), np.std(TVMAGI_a_RMSE))"
   ]
  },
  {
   "cell_type": "code",
   "execution_count": null,
   "id": "24bbd19a",
   "metadata": {},
   "outputs": [],
   "source": [
    "1e5 * a1_interp[index] * np.exp(-state_ls[i - 1]) + 1e3 * a2_interp[index] * Tt_interp[index]"
   ]
  }
 ],
 "metadata": {
  "kernelspec": {
   "display_name": "Python 3 (ipykernel)",
   "language": "python",
   "name": "python3"
  },
  "language_info": {
   "codemirror_mode": {
    "name": "ipython",
    "version": 3
   },
   "file_extension": ".py",
   "mimetype": "text/x-python",
   "name": "python",
   "nbconvert_exporter": "python",
   "pygments_lexer": "ipython3",
   "version": "3.9.7"
  }
 },
 "nbformat": 4,
 "nbformat_minor": 5
}
